{
 "cells": [
  {
   "cell_type": "markdown",
   "metadata": {},
   "source": [
    "Constants"
   ]
  },
  {
   "cell_type": "code",
   "execution_count": 83,
   "metadata": {},
   "outputs": [],
   "source": [
    "# paths\n",
    "INPUT_PATH = '/Users/miqbalshdq/Documents/Projects/PUSKA-Full/Research/datasets/cleaned'\n",
    "SCALER_PATH = '/Users/miqbalshdq/Documents/Projects/PUSKA-Full/Research/scalers'\n",
    "PREDICTION_PATH = '/Users/miqbalshdq/Documents/Projects/PUSKA-Full/Research/datasets/predictions'\n",
    "MODEL_PATH = '/Users/miqbalshdq/Documents/Projects/PUSKA-Full/Research/models'\n",
    "\n",
    "# values\n",
    "TIMESTEP = 2\n",
    "TRAIN_PERCENTAGE = 0.8"
   ]
  },
  {
   "cell_type": "markdown",
   "metadata": {},
   "source": [
    "Import Libraries"
   ]
  },
  {
   "cell_type": "code",
   "execution_count": 76,
   "metadata": {},
   "outputs": [],
   "source": [
    "import os\n",
    "import joblib\n",
    "import numpy as np\n",
    "import pandas as pd\n",
    "import tensorflow as tf\n",
    "\n",
    "from datetime import datetime\n",
    "from tensorflow.keras.models import Sequential\n",
    "from tensorflow.keras.layers import Dense, LSTM\n",
    "from sklearn.preprocessing import MinMaxScaler\n",
    "from sklearn.metrics import mean_squared_error, r2_score, mean_absolute_percentage_error"
   ]
  },
  {
   "cell_type": "markdown",
   "metadata": {},
   "source": [
    "Helper Function"
   ]
  },
  {
   "cell_type": "code",
   "execution_count": 78,
   "metadata": {},
   "outputs": [],
   "source": [
    "def calculate_mape(row):\n",
    "    actual = row['actual']\n",
    "    predicted = row['prediction']\n",
    "    return round(np.abs((actual - predicted) / actual) * 100, 2)"
   ]
  },
  {
   "cell_type": "markdown",
   "metadata": {},
   "source": [
    "Data Modelling"
   ]
  },
  {
   "cell_type": "code",
   "execution_count": 84,
   "metadata": {},
   "outputs": [
    {
     "name": "stdout",
     "output_type": "stream",
     "text": [
      "Epoch 1/10\n"
     ]
    },
    {
     "name": "stderr",
     "output_type": "stream",
     "text": [
      "/Users/miqbalshdq/Documents/Projects/PUSKA-Full/Research/venv/lib/python3.10/site-packages/keras/src/layers/rnn/rnn.py:205: UserWarning: Do not pass an `input_shape`/`input_dim` argument to a layer. When using Sequential models, prefer using an `Input(shape)` object as the first layer in the model instead.\n",
      "  super().__init__(**kwargs)\n"
     ]
    },
    {
     "name": "stdout",
     "output_type": "stream",
     "text": [
      "423/423 - 1s - 1ms/step - loss: 0.0402\n",
      "Epoch 2/10\n",
      "423/423 - 0s - 387us/step - loss: 0.0080\n",
      "Epoch 3/10\n",
      "423/423 - 0s - 321us/step - loss: 0.0066\n",
      "Epoch 4/10\n",
      "423/423 - 0s - 315us/step - loss: 0.0054\n",
      "Epoch 5/10\n",
      "423/423 - 0s - 320us/step - loss: 0.0046\n",
      "Epoch 6/10\n",
      "423/423 - 0s - 356us/step - loss: 0.0041\n",
      "Epoch 7/10\n",
      "423/423 - 0s - 325us/step - loss: 0.0039\n",
      "Epoch 8/10\n",
      "423/423 - 0s - 320us/step - loss: 0.0037\n",
      "Epoch 9/10\n",
      "423/423 - 0s - 317us/step - loss: 0.0037\n",
      "Epoch 10/10\n",
      "423/423 - 0s - 324us/step - loss: 0.0036\n",
      "\u001b[1m14/14\u001b[0m \u001b[32m━━━━━━━━━━━━━━━━━━━━\u001b[0m\u001b[37m\u001b[0m \u001b[1m0s\u001b[0m 4ms/step\n",
      "\u001b[1m4/4\u001b[0m \u001b[32m━━━━━━━━━━━━━━━━━━━━\u001b[0m\u001b[37m\u001b[0m \u001b[1m0s\u001b[0m 594us/step\n"
     ]
    },
    {
     "name": "stderr",
     "output_type": "stream",
     "text": [
      "WARNING:absl:You are saving your model as an HDF5 file via `model.save()` or `keras.saving.save_model(model)`. This file format is considered legacy. We recommend using instead the native Keras format, e.g. `model.save('my_model.keras')` or `keras.saving.save_model(model, 'my_model.keras')`. \n"
     ]
    },
    {
     "name": "stdout",
     "output_type": "stream",
     "text": [
      "Epoch 1/10\n"
     ]
    },
    {
     "name": "stderr",
     "output_type": "stream",
     "text": [
      "/Users/miqbalshdq/Documents/Projects/PUSKA-Full/Research/venv/lib/python3.10/site-packages/keras/src/layers/rnn/rnn.py:205: UserWarning: Do not pass an `input_shape`/`input_dim` argument to a layer. When using Sequential models, prefer using an `Input(shape)` object as the first layer in the model instead.\n",
      "  super().__init__(**kwargs)\n"
     ]
    },
    {
     "name": "stdout",
     "output_type": "stream",
     "text": [
      "290/290 - 0s - 2ms/step - loss: 0.0407\n",
      "Epoch 2/10\n",
      "290/290 - 0s - 325us/step - loss: 0.0066\n",
      "Epoch 3/10\n",
      "290/290 - 0s - 366us/step - loss: 0.0059\n",
      "Epoch 4/10\n",
      "290/290 - 0s - 317us/step - loss: 0.0052\n",
      "Epoch 5/10\n",
      "290/290 - 0s - 441us/step - loss: 0.0046\n",
      "Epoch 6/10\n",
      "290/290 - 0s - 320us/step - loss: 0.0040\n",
      "Epoch 7/10\n",
      "290/290 - 0s - 320us/step - loss: 0.0035\n",
      "Epoch 8/10\n",
      "290/290 - 0s - 322us/step - loss: 0.0032\n",
      "Epoch 9/10\n",
      "290/290 - 0s - 320us/step - loss: 0.0029\n",
      "Epoch 10/10\n",
      "290/290 - 0s - 318us/step - loss: 0.0028\n",
      "\u001b[1m10/10\u001b[0m \u001b[32m━━━━━━━━━━━━━━━━━━━━\u001b[0m\u001b[37m\u001b[0m \u001b[1m0s\u001b[0m 6ms/step\n",
      "\u001b[1m3/3\u001b[0m \u001b[32m━━━━━━━━━━━━━━━━━━━━\u001b[0m\u001b[37m\u001b[0m \u001b[1m0s\u001b[0m 635us/step\n"
     ]
    },
    {
     "name": "stderr",
     "output_type": "stream",
     "text": [
      "WARNING:absl:You are saving your model as an HDF5 file via `model.save()` or `keras.saving.save_model(model)`. This file format is considered legacy. We recommend using instead the native Keras format, e.g. `model.save('my_model.keras')` or `keras.saving.save_model(model, 'my_model.keras')`. \n"
     ]
    },
    {
     "name": "stdout",
     "output_type": "stream",
     "text": [
      "Epoch 1/10\n"
     ]
    },
    {
     "name": "stderr",
     "output_type": "stream",
     "text": [
      "/Users/miqbalshdq/Documents/Projects/PUSKA-Full/Research/venv/lib/python3.10/site-packages/keras/src/layers/rnn/rnn.py:205: UserWarning: Do not pass an `input_shape`/`input_dim` argument to a layer. When using Sequential models, prefer using an `Input(shape)` object as the first layer in the model instead.\n",
      "  super().__init__(**kwargs)\n"
     ]
    },
    {
     "name": "stdout",
     "output_type": "stream",
     "text": [
      "131/131 - 0s - 3ms/step - loss: 0.3618\n",
      "Epoch 2/10\n",
      "131/131 - 0s - 372us/step - loss: 0.1380\n",
      "Epoch 3/10\n",
      "131/131 - 0s - 375us/step - loss: 0.0453\n",
      "Epoch 4/10\n",
      "131/131 - 0s - 368us/step - loss: 0.0207\n",
      "Epoch 5/10\n",
      "131/131 - 0s - 369us/step - loss: 0.0167\n",
      "Epoch 6/10\n",
      "131/131 - 0s - 363us/step - loss: 0.0162\n",
      "Epoch 7/10\n",
      "131/131 - 0s - 363us/step - loss: 0.0159\n",
      "Epoch 8/10\n",
      "131/131 - 0s - 371us/step - loss: 0.0157\n",
      "Epoch 9/10\n",
      "131/131 - 0s - 370us/step - loss: 0.0155\n",
      "Epoch 10/10\n",
      "131/131 - 0s - 367us/step - loss: 0.0153\n",
      "\u001b[1m5/5\u001b[0m \u001b[32m━━━━━━━━━━━━━━━━━━━━\u001b[0m\u001b[37m\u001b[0m \u001b[1m0s\u001b[0m 12ms/step\n",
      "\u001b[1m2/2\u001b[0m \u001b[32m━━━━━━━━━━━━━━━━━━━━\u001b[0m\u001b[37m\u001b[0m \u001b[1m0s\u001b[0m 921us/step\n"
     ]
    },
    {
     "name": "stderr",
     "output_type": "stream",
     "text": [
      "WARNING:absl:You are saving your model as an HDF5 file via `model.save()` or `keras.saving.save_model(model)`. This file format is considered legacy. We recommend using instead the native Keras format, e.g. `model.save('my_model.keras')` or `keras.saving.save_model(model, 'my_model.keras')`. \n"
     ]
    },
    {
     "name": "stdout",
     "output_type": "stream",
     "text": [
      "Epoch 1/10\n"
     ]
    },
    {
     "name": "stderr",
     "output_type": "stream",
     "text": [
      "/Users/miqbalshdq/Documents/Projects/PUSKA-Full/Research/venv/lib/python3.10/site-packages/keras/src/layers/rnn/rnn.py:205: UserWarning: Do not pass an `input_shape`/`input_dim` argument to a layer. When using Sequential models, prefer using an `Input(shape)` object as the first layer in the model instead.\n",
      "  super().__init__(**kwargs)\n"
     ]
    },
    {
     "name": "stdout",
     "output_type": "stream",
     "text": [
      "423/423 - 0s - 1ms/step - loss: 0.0453\n",
      "Epoch 2/10\n",
      "423/423 - 0s - 314us/step - loss: 0.0064\n",
      "Epoch 3/10\n",
      "423/423 - 0s - 315us/step - loss: 0.0055\n",
      "Epoch 4/10\n",
      "423/423 - 0s - 399us/step - loss: 0.0047\n",
      "Epoch 5/10\n",
      "423/423 - 0s - 312us/step - loss: 0.0041\n",
      "Epoch 6/10\n",
      "423/423 - 0s - 311us/step - loss: 0.0038\n",
      "Epoch 7/10\n",
      "423/423 - 0s - 312us/step - loss: 0.0035\n",
      "Epoch 8/10\n",
      "423/423 - 0s - 315us/step - loss: 0.0034\n",
      "Epoch 9/10\n",
      "423/423 - 0s - 313us/step - loss: 0.0033\n",
      "Epoch 10/10\n",
      "423/423 - 0s - 312us/step - loss: 0.0033\n",
      "\u001b[1m14/14\u001b[0m \u001b[32m━━━━━━━━━━━━━━━━━━━━\u001b[0m\u001b[37m\u001b[0m \u001b[1m0s\u001b[0m 4ms/step\n",
      "\u001b[1m4/4\u001b[0m \u001b[32m━━━━━━━━━━━━━━━━━━━━\u001b[0m\u001b[37m\u001b[0m \u001b[1m0s\u001b[0m 689us/step\n"
     ]
    },
    {
     "name": "stderr",
     "output_type": "stream",
     "text": [
      "WARNING:absl:You are saving your model as an HDF5 file via `model.save()` or `keras.saving.save_model(model)`. This file format is considered legacy. We recommend using instead the native Keras format, e.g. `model.save('my_model.keras')` or `keras.saving.save_model(model, 'my_model.keras')`. \n"
     ]
    }
   ],
   "source": [
    "for filename in os.listdir(INPUT_PATH):\n",
    "    \n",
    "    if not filename.endswith('.csv'):\n",
    "        continue\n",
    "    \n",
    "    data_df = pd.read_csv(os.path.join(INPUT_PATH, filename))\n",
    "    data_df = data_df[['id_waktu', 'id_lokasi', 'id_unit_ternak', 'date', 'jumlah_produksi']]\n",
    "    \n",
    "    data_df = data_df.rename(columns={'jumlah_produksi': 'y'})\n",
    "    \n",
    "    # scaling data\n",
    "    scaler = MinMaxScaler(feature_range=(0, 1), clip=True)\n",
    "    data_df[['y']] = scaler.fit_transform(data_df[['y']])\n",
    "    \n",
    "    joblib.dump(scaler, os.path.join(SCALER_PATH, filename.replace('.csv', '.pkl')))\n",
    "    \n",
    "    # create timesteps\n",
    "    for i in range(1, TIMESTEP + 1):\n",
    "        data_df[f'y-{i}'] = data_df['y'].shift(i)\n",
    "        \n",
    "    data_df = data_df.iloc[TIMESTEP:, :].reset_index(drop=True)\n",
    "    \n",
    "    # split data\n",
    "    split_index = int(len(data_df) * TRAIN_PERCENTAGE)\n",
    "    \n",
    "    train_df = data_df.iloc[:split_index, :]\n",
    "    test_df = data_df.iloc[split_index:, :]\n",
    "    \n",
    "    x_columns = data_df.columns[5:].tolist()\n",
    "    \n",
    "    x_train = train_df[x_columns].values\n",
    "    x_test = test_df[x_columns].values\n",
    "    \n",
    "    y_train = train_df['y'].values\n",
    "    y_test = test_df['y'].values\n",
    "    \n",
    "    x_train = np.reshape(x_train, (x_train.shape[0], 1, x_train.shape[1]))\n",
    "    x_test = np.reshape(x_test, (x_test.shape[0], 1, x_test.shape[1]))\n",
    "   \n",
    "    # data modelling\n",
    "    tf.random.set_seed(10)\n",
    "    \n",
    "    model = Sequential()\n",
    "    model.add(LSTM(2, input_shape=(1, TIMESTEP)))\n",
    "    model.add(Dense(1))\n",
    "    model.compile(loss='mean_squared_error', optimizer='adam')\n",
    "    model.fit(x_train, y_train, epochs=10, batch_size=1, verbose=2)\n",
    "    \n",
    "    # prediction\n",
    "    train_pred = model.predict(x_train)\n",
    "    test_pred = model.predict(x_test)\n",
    "    \n",
    "    train_pred = scaler.inverse_transform(train_pred)\n",
    "    y_train = scaler.inverse_transform([y_train])\n",
    "\n",
    "    test_pred = scaler.inverse_transform(test_pred)\n",
    "    y_test = scaler.inverse_transform([y_test])\n",
    "    \n",
    "    y_act = list(y_train[0]) + list(y_test[0])\n",
    "    y_pred = list(train_pred[:, 0]) + list(test_pred[:, 0])\n",
    "    y_pred = [round(y, 2) for y in y_pred]\n",
    "    \n",
    "    evaluation_df = pd.DataFrame(columns=['date', 'actual', 'prediction'])\n",
    "    evaluation_df['date'] = data_df['date']\n",
    "    evaluation_df['id_waktu'] = data_df['id_waktu']\n",
    "    evaluation_df['id_lokasi'] = data_df['id_lokasi']\n",
    "    evaluation_df['id_unit_ternak'] = data_df['id_unit_ternak']\n",
    "    evaluation_df['actual'] = y_act\n",
    "    evaluation_df['prediction'] = y_pred\n",
    "    evaluation_df['mape'] = evaluation_df.apply(calculate_mape, axis=1)\n",
    "    evaluation_df['created_at'] = datetime.now()\n",
    "    evaluation_df['latency'] = None\n",
    "    evaluation_df = evaluation_df[['id_waktu', 'id_lokasi', 'id_unit_ternak',\n",
    "                                   'prediction', 'latency', 'mape', 'created_at']]\n",
    "    \n",
    "    evaluation_df.to_csv(os.path.join(PREDICTION_PATH, filename), index=False)\n",
    "    \n",
    "    model.save(os.path.join(MODEL_PATH, filename.replace('.csv', '.h5')))"
   ]
  }
 ],
 "metadata": {
  "kernelspec": {
   "display_name": "venv",
   "language": "python",
   "name": "python3"
  },
  "language_info": {
   "codemirror_mode": {
    "name": "ipython",
    "version": 3
   },
   "file_extension": ".py",
   "mimetype": "text/x-python",
   "name": "python",
   "nbconvert_exporter": "python",
   "pygments_lexer": "ipython3",
   "version": "3.10.13"
  }
 },
 "nbformat": 4,
 "nbformat_minor": 2
}
